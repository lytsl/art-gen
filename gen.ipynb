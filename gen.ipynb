{
 "cells": [
  {
   "cell_type": "code",
   "execution_count": 2,
   "outputs": [],
   "source": [
    "from generate_image import *\n",
    "\n",
    "gen = GenerateImage(nb=True)"
   ],
   "metadata": {
    "collapsed": false,
    "pycharm": {
     "name": "#%%\n"
    }
   }
  },
  {
   "cell_type": "code",
   "execution_count": null,
   "outputs": [],
   "source": [
    "# import sys\n",
    "# sys.path.append('taming-transformers')\n",
    "\n",
    "gen.initialize()"
   ],
   "metadata": {
    "collapsed": false,
    "pycharm": {
     "name": "#%%\n",
     "is_executing": true
    }
   }
  },
  {
   "cell_type": "code",
   "execution_count": null,
   "metadata": {
    "collapsed": false,
    "pycharm": {
     "name": "#%%\n",
     "is_executing": true
    }
   },
   "outputs": [],
   "source": [
    "# prompts = [('a painting of sky', 1.0), ('highly detailed hd', 0.9)]\n",
    "#\n",
    "# img = gen.generate(prompts=prompts,iterations=180)"
   ]
  },
  {
   "cell_type": "code",
   "execution_count": 18,
   "outputs": [],
   "source": [
    "import sys\n",
    "\n",
    "sys.path.append('Real-ESRGAN')\n",
    "\n",
    "from realesrgan import RealESRGAN\n",
    "from PIL import Image\n",
    "import numpy as np\n",
    "import torch\n",
    "\n",
    "\n",
    "def upscale(img, device=None):\n",
    "    if device:\n",
    "        device = torch.device('cpu')\n",
    "        # device = torch.device('cuda' if torch.cuda.is_available() else 'cpu')\n",
    "\n",
    "    model = RealESRGAN(device, scale=4)\n",
    "    model.load_weights('Real-ESRGAN/weights/RealESRGAN_x4.pth')\n",
    "\n",
    "    return model.predict(np.array(img))"
   ],
   "metadata": {
    "collapsed": false,
    "pycharm": {
     "name": "#%%\n"
    }
   }
  },
  {
   "cell_type": "code",
   "execution_count": null,
   "outputs": [],
   "source": [
    "import gradio as gr\n",
    "import torch\n",
    "\n",
    "# Define the main function\n",
    "def generate(prompt,style,image=None):\n",
    "    img = gen.generate(prompts=[(prompt,1.0)],style=style,img=image)\n",
    "    print('generated')\n",
    "    img = upscale(img)\n",
    "    print('upscaled')\n",
    "    img.save('output.png')\n",
    "    return 'output.png'\n",
    "\n",
    "\n",
    "prompt = gr.inputs.Textbox(default=\"a painting of castle\", label=\"Text Prompt\")\n",
    "style = gr.inputs.Radio(choices=['Default','Epic','Dark Fantasy','Sinister','Fantasy','Horror','Surreal','Steampunk','Cyberpunk','Synthwave','Heavenly'],label='Style')\n",
    "image = gr.inputs.Image(shape=(256,256), label=\"Initial Image\")\n",
    "\n",
    "iface = gr.Interface(generate, inputs=[prompt,style], outputs=['image'], enable_queue=True, live=False)\n",
    "iface.launch(share=True,debug=True)"
   ],
   "metadata": {
    "collapsed": false,
    "pycharm": {
     "name": "#%%\n"
    }
   }
  },
  {
   "cell_type": "code",
   "execution_count": null,
   "outputs": [],
   "source": [],
   "metadata": {
    "collapsed": false,
    "pycharm": {
     "name": "#%%\n"
    }
   }
  }
 ],
 "metadata": {
  "kernelspec": {
   "display_name": "Python 3.10.4 64-bit",
   "language": "python",
   "name": "python3"
  },
  "language_info": {
   "codemirror_mode": {
    "name": "ipython",
    "version": 3
   },
   "file_extension": ".py",
   "mimetype": "text/x-python",
   "name": "python",
   "nbconvert_exporter": "python",
   "pygments_lexer": "ipython3",
   "version": "3.10.4"
  },
  "vscode": {
   "interpreter": {
    "hash": "27f6fea6f47ae512550f0b8facdbd035a93e1dd89633f7bf2dd00a2502c71d0d"
   }
  }
 },
 "nbformat": 4,
 "nbformat_minor": 1
}